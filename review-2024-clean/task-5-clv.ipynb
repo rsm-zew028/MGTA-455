{
 "cells": [
  {
   "cell_type": "markdown",
   "metadata": {},
   "source": [
    "# Review session - CLV example"
   ]
  },
  {
   "cell_type": "code",
   "execution_count": null,
   "metadata": {},
   "outputs": [],
   "source": [
    "import matplotlib as mpl\n",
    "import numpy as np\n",
    "import pandas as pd\n",
    "import seaborn as sns\n",
    "\n",
    "# increase plot resolution\n",
    "mpl.rcParams[\"figure.dpi\"] = 150"
   ]
  },
  {
   "cell_type": "markdown",
   "metadata": {},
   "source": [
    "* Discount rate is 10% annually\n",
    "* What is the churn rate? What about the retention rate?\n",
    "* What assumption are we making about the timing of churn (Optimistic or Pessimistic)?\n",
    "* What assumption are we making about the timing of payment (Optimistic or Pessimistic)?"
   ]
  },
  {
   "cell_type": "markdown",
   "metadata": {},
   "source": [
    "## List of assumptions"
   ]
  },
  {
   "cell_type": "code",
   "execution_count": null,
   "metadata": {
    "scrolled": true
   },
   "outputs": [],
   "source": [
    "revenue = 400\n",
    "annual_discount_rate = 0.1\n",
    "annual_churn = 0.41\n",
    "retention_rate = 1 - annual_churn\n",
    "service_cost = 80\n",
    "marketing_cost = 0\n",
    "nr_years = 5"
   ]
  },
  {
   "cell_type": "code",
   "execution_count": null,
   "metadata": {
    "scrolled": true
   },
   "outputs": [],
   "source": [
    "time = np.arange(nr_years) + 1\n",
    "revenues = np.array([...] * nr_years)\n",
    "marketing = np.array([...] * nr_years)"
   ]
  },
  {
   "cell_type": "code",
   "execution_count": null,
   "metadata": {},
   "outputs": [],
   "source": [
    "profit = ... \n",
    "active = np.power(1 - ..., ...)\n",
    "eprofit = active * profit\n",
    "pv = eprofit / np.power(, ...)\n",
    "CLV = np.cumsum(pv)\n",
    "\n",
    "df = pd.DataFrame(\n",
    "    {\n",
    "        \"time\": time,\n",
    "        \"revenues\": revenues,\n",
    "        \"product/service costs\": service,\n",
    "        \"marketing costs\": marketing,\n",
    "        \"active\": (100 * active).round(2).astype(str),\n",
    "        \"profit\": profit,\n",
    "        \"pv\": pv,\n",
    "        \"CLV\": CLV,\n",
    "    }\n",
    ")\n",
    "df.T"
   ]
  },
  {
   "cell_type": "markdown",
   "metadata": {},
   "source": [
    "Using seaborn to plot the data"
   ]
  },
  {
   "cell_type": "code",
   "execution_count": null,
   "metadata": {},
   "outputs": [],
   "source": [
    "fig = df.plot.line(x=\"time\", y=\"CLV\", legend=False)"
   ]
  },
  {
   "cell_type": "markdown",
   "metadata": {},
   "source": [
    "Using pandas plotting feature"
   ]
  },
  {
   "cell_type": "code",
   "execution_count": null,
   "metadata": {},
   "outputs": [],
   "source": [
    "fig = sns.lineplot(x=\"time\", y=\"CLV\", data=df)"
   ]
  },
  {
   "cell_type": "code",
   "execution_count": null,
   "metadata": {},
   "outputs": [],
   "source": []
  }
 ],
 "metadata": {
  "jupytext": {
   "cell_metadata_filter": "-all",
   "main_language": "python",
   "notebook_metadata_filter": "-all"
  },
  "kernelspec": {
   "display_name": "Python 3",
   "language": "python",
   "name": "python3"
  },
  "language_info": {
   "codemirror_mode": {
    "name": "ipython",
    "version": 3
   },
   "file_extension": ".py",
   "mimetype": "text/x-python",
   "name": "python",
   "nbconvert_exporter": "python",
   "pygments_lexer": "ipython3",
   "version": "3.9.10"
  }
 },
 "nbformat": 4,
 "nbformat_minor": 4
}
