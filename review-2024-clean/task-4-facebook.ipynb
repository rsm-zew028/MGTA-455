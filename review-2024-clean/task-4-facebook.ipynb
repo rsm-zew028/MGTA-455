{
 "cells": [
  {
   "cell_type": "code",
   "execution_count": 1,
   "id": "positive-defensive",
   "metadata": {},
   "outputs": [
    {
     "name": "stdout",
     "output_type": "stream",
     "text": [
      "The history saving thread hit an unexpected error (DatabaseError('database disk image is malformed')).History will not be written to the database.\n"
     ]
    }
   ],
   "source": [
    "import matplotlib as mpl\n",
    "import matplotlib.pyplot as plt\n",
    "import numpy as np\n",
    "import pandas as pd\n",
    "import pyrsm as rsm\n",
    "import seaborn as sns\n",
    "import statsmodels.formula.api as smf\n",
    "from sklearn.inspection import permutation_importance\n",
    "from sklearn.neural_network import MLPClassifier\n",
    "from sklearn.preprocessing import StandardScaler\n",
    "from statsmodels.genmod.families import Binomial\n",
    "from statsmodels.genmod.families.links import logit\n",
    "\n",
    "# increase plot resolution\n",
    "mpl.rcParams[\"figure.dpi\"] = 150"
   ]
  },
  {
   "cell_type": "code",
   "execution_count": 2,
   "id": "valued-accused",
   "metadata": {},
   "outputs": [],
   "source": [
    "facebook = pd.read_pickle(\"data/facebook.pkl\")\n",
    "facebook[\"click_yes\"] = rsm.ifelse(facebook[\"click\"] == \"yes\", 1, 0)"
   ]
  },
  {
   "cell_type": "code",
   "execution_count": 3,
   "id": "dietary-manor",
   "metadata": {},
   "outputs": [
    {
     "data": {
      "text/html": [
       "<div>\n",
       "<style scoped>\n",
       "    .dataframe tbody tr th:only-of-type {\n",
       "        vertical-align: middle;\n",
       "    }\n",
       "\n",
       "    .dataframe tbody tr th {\n",
       "        vertical-align: top;\n",
       "    }\n",
       "\n",
       "    .dataframe thead th {\n",
       "        text-align: right;\n",
       "    }\n",
       "</style>\n",
       "<table border=\"1\" class=\"dataframe\">\n",
       "  <thead>\n",
       "    <tr style=\"text-align: right;\">\n",
       "      <th></th>\n",
       "      <th>index</th>\n",
       "      <th>OR</th>\n",
       "      <th>OR%</th>\n",
       "      <th>2.5%</th>\n",
       "      <th>97.5%</th>\n",
       "      <th>p.values</th>\n",
       "      <th></th>\n",
       "    </tr>\n",
       "  </thead>\n",
       "  <tbody>\n",
       "    <tr>\n",
       "      <th>1</th>\n",
       "      <td>gender[T.female]</td>\n",
       "      <td>0.972</td>\n",
       "      <td>-2.8%</td>\n",
       "      <td>0.812</td>\n",
       "      <td>1.164</td>\n",
       "      <td>0.76</td>\n",
       "      <td></td>\n",
       "    </tr>\n",
       "    <tr>\n",
       "      <th>2</th>\n",
       "      <td>ad[T.B]</td>\n",
       "      <td>0.861</td>\n",
       "      <td>-13.9%</td>\n",
       "      <td>0.719</td>\n",
       "      <td>1.031</td>\n",
       "      <td>0.103</td>\n",
       "      <td></td>\n",
       "    </tr>\n",
       "    <tr>\n",
       "      <th>3</th>\n",
       "      <td>age</td>\n",
       "      <td>1.050</td>\n",
       "      <td>5.0%</td>\n",
       "      <td>1.039</td>\n",
       "      <td>1.061</td>\n",
       "      <td>&lt; .001</td>\n",
       "      <td>***</td>\n",
       "    </tr>\n",
       "  </tbody>\n",
       "</table>\n",
       "</div>"
      ],
      "text/plain": [
       "              index     OR     OR%   2.5%  97.5% p.values     \n",
       "1  gender[T.female]  0.972   -2.8%  0.812  1.164     0.76     \n",
       "2           ad[T.B]  0.861  -13.9%  0.719  1.031    0.103     \n",
       "3               age  1.050    5.0%  1.039  1.061   < .001  ***"
      ]
     },
     "execution_count": 3,
     "metadata": {},
     "output_type": "execute_result"
    }
   ],
   "source": [
    "lr = smf.glm(\n",
    "    formula=\"click_yes ~ age + gender + ad\",\n",
    "    family=Binomial(link=logit()),\n",
    "    data=facebook,\n",
    ").fit()\n",
    "rsm.or_ci(lr)"
   ]
  },
  {
   "cell_type": "code",
   "execution_count": 5,
   "id": "modular-greeting",
   "metadata": {},
   "outputs": [],
   "source": [
    "facebook[\"pred_logit\"] = lr.predict(facebook)"
   ]
  },
  {
   "cell_type": "markdown",
   "id": "affiliated-mapping",
   "metadata": {},
   "source": [
    "Always standardize the data before fitting a neural network. Make sure to also use that same standardized data in your predictions.\n",
    "\n",
    "> Note: It is **not** necessary to standardize data when using logistic regression. We only use standardized data with logistic regression to evaluate the relative importance of different explanatory variables"
   ]
  },
  {
   "cell_type": "code",
   "execution_count": 6,
   "id": "organizational-belfast",
   "metadata": {},
   "outputs": [],
   "source": [
    "facebook_std =  "
   ]
  },
  {
   "cell_type": "code",
   "execution_count": 7,
   "id": "hazardous-relationship",
   "metadata": {},
   "outputs": [],
   "source": [
    "X = \n",
    "y = facebook[\"click_yes\"]"
   ]
  },
  {
   "cell_type": "markdown",
   "id": "short-public",
   "metadata": {},
   "source": [
    "> Note: for large neural networks I recommend using\n",
    "relu as the activation function. However, in smaller\n",
    "nets, \"tanh\" offers additional flexibility with fewer\n",
    "hidden nodes and layers"
   ]
  },
  {
   "cell_type": "code",
   "execution_count": null,
   "id": "confused-position",
   "metadata": {},
   "outputs": [],
   "source": [
    "def nn(X, y, hlsizes=(1,), alpha=0.0001, max_iter=10000):\n",
    "    return MLPClassifier(\n",
    "        activation=\"tanh\",\n",
    "        solver=\"lbfgs\",\n",
    "        hidden_layer_sizes=hlsizes,\n",
    "        alpha=alpha,\n",
    "        random_state=1234,\n",
    "        max_iter=max_iter,\n",
    "    ).fit(X, y)\n"
   ]
  },
  {
   "cell_type": "code",
   "execution_count": null,
   "id": "ranking-stretch",
   "metadata": {},
   "outputs": [],
   "source": [
    "clf = nn(X, y, hlsizes=(1,))\n",
    "facebook[\"pred_nn1\"] = clf.predict_proba(X)[:, 1]\n",
    "fig = ..."
   ]
  },
  {
   "cell_type": "markdown",
   "id": "0c45b4a4",
   "metadata": {},
   "source": [
    "Generate predictions for `gender` and `ad` for both the logistic regression model and the neural network"
   ]
  },
  {
   "cell_type": "code",
   "execution_count": null,
   "id": "2f20da84",
   "metadata": {},
   "outputs": [],
   "source": []
  }
 ],
 "metadata": {
  "jupytext": {
   "cell_metadata_filter": "-all",
   "main_language": "python",
   "notebook_metadata_filter": "-all"
  },
  "kernelspec": {
   "display_name": "Python 3 (ipykernel)",
   "language": "python",
   "name": "python3"
  },
  "language_info": {
   "codemirror_mode": {
    "name": "ipython",
    "version": 3
   },
   "file_extension": ".py",
   "mimetype": "text/x-python",
   "name": "python",
   "nbconvert_exporter": "python",
   "pygments_lexer": "ipython3",
   "version": "3.9.10"
  }
 },
 "nbformat": 4,
 "nbformat_minor": 5
}
