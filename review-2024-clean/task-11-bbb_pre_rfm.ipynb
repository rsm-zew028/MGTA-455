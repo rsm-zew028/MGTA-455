{
 "cells": [
  {
   "cell_type": "code",
   "execution_count": null,
   "id": "experimental-ferry",
   "metadata": {},
   "outputs": [],
   "source": [
    "import matplotlib as mpl\n",
    "import matplotlib.pyplot as plt\n",
    "import numpy as np\n",
    "import pandas as pd\n",
    "import pyrsm as rsm\n",
    "import seaborn as sns\n",
    "import statsmodels.formula.api as smf\n",
    "from statsmodels.genmod.families import Binomial\n",
    "from statsmodels.genmod.families.links import logit\n",
    "\n",
    "# increase plot resolution\n",
    "mpl.rcParams[\"figure.dpi\"] = 150"
   ]
  },
  {
   "cell_type": "markdown",
   "id": "34a34742",
   "metadata": {},
   "source": [
    "THIS IS NOT A SOLUTION NOTEBOOK. DETAILS TO FOLLOW ON HOW YOU CAN SUBMIT YOUR CSV FILE WITH PROSPECTS TO TARGET"
   ]
  },
  {
   "cell_type": "code",
   "execution_count": null,
   "id": "sorted-economy",
   "metadata": {},
   "outputs": [],
   "source": [
    "bbb = pd.read_pickle(\"data/bbb_pre.pkl\")\n",
    "bbb"
   ]
  },
  {
   "cell_type": "code",
   "execution_count": null,
   "id": "charitable-poultry",
   "metadata": {},
   "outputs": [],
   "source": [
    "bbb[np.isin(bbb.buyer, [\"yes\", \"no\"])].shape"
   ]
  },
  {
   "cell_type": "code",
   "execution_count": null,
   "id": "170c2688-6a56-401b-82a9-3632a4996ada",
   "metadata": {},
   "outputs": [],
   "source": [
    "bbb[\"buyer_yes\"] = rsm.ifelse(\n",
    "    bbb.buyer == \"yes\", 1, rsm.ifelse(bbb.buyer == \"no\", 0, np.NaN)\n",
    ")\n",
    "rsm.format_nr(np.isnan(bbb.buyer_yes).sum())"
   ]
  },
  {
   "cell_type": "code",
   "execution_count": null,
   "id": "9447e7b9-d278-48d1-8d42-3dc65826792c",
   "metadata": {},
   "outputs": [],
   "source": [
    "bbb.buyer_yes.value_counts(dropna=False)"
   ]
  },
  {
   "cell_type": "code",
   "execution_count": null,
   "id": "activated-sunglasses",
   "metadata": {},
   "outputs": [],
   "source": [
    "# different cost and margin information compared to previous examples\n",
    "cost = 0.99\n",
    "margin = 9\n",
    "breakeven = cost / margin\n",
    "breakeven"
   ]
  },
  {
   "cell_type": "markdown",
   "id": "addressed-asian",
   "metadata": {},
   "source": [
    "### What percentage of customers bought?"
   ]
  },
  {
   "cell_type": "code",
   "execution_count": null,
   "id": "humanitarian-setup",
   "metadata": {},
   "outputs": [],
   "source": [
    "train = bbb.training == 1\n",
    "pd.crosstab(\n",
    "    index=bbb.loc[train, \"buyer\"], columns=\"Response rate\", normalize=\"columns\"\n",
    ").transform(lambda x: (100 * x).round(2).astype(str) + \"%\")"
   ]
  },
  {
   "cell_type": "markdown",
   "id": "hollow-harvard",
   "metadata": {},
   "source": [
    "### Create quintile variables for recency, frequency and monetary.\n",
    "\n",
    "Hint: Review the rfm-bbb.py python code file that walks through the calculations for the Bookbinders RFM analysis in detail. Use the `xtile` function from the `pyrsm` package to create the recency, frequency, and monetary value quantiles. Note the use of `rev=True` for `freq_iq` and `mon_iq` to ensure the best customers are in the 1st quantile"
   ]
  },
  {
   "cell_type": "code",
   "execution_count": null,
   "id": "monetary-bidding",
   "metadata": {},
   "outputs": [],
   "source": [
    "bbb = bbb.assign(\n",
    "\n",
    ")"
   ]
  },
  {
   "cell_type": "markdown",
   "id": "crude-equity",
   "metadata": {
    "lines_to_next_cell": 0
   },
   "source": [
    "### Create bar charts showing the response rate \n",
    "\n",
    "The proportion of customers who bought AHOF per recency, frequency, and monetary quintile (i.e., 3 plots)\n"
   ]
  },
  {
   "cell_type": "code",
   "execution_count": null,
   "id": "deadly-stress",
   "metadata": {},
   "outputs": [],
   "source": [
    "fig = rsm.prop_plot(bbb[train], \"rec_iq\", \"buyer\", \"yes\")"
   ]
  },
  {
   "cell_type": "code",
   "execution_count": null,
   "id": "starting-spine",
   "metadata": {},
   "outputs": [],
   "source": [
    "fig = rsm.prop_plot(bbb[train], \"freq_iq\", \"buyer\", \"yes\")"
   ]
  },
  {
   "cell_type": "code",
   "execution_count": null,
   "id": "infrared-final",
   "metadata": {},
   "outputs": [],
   "source": [
    "fig = rsm.prop_plot(bbb[train], \"mon_iq\", \"buyer\", \"yes\")"
   ]
  },
  {
   "cell_type": "markdown",
   "id": "right-nurse",
   "metadata": {},
   "source": [
    "Create the `rfm_iq` index."
   ]
  },
  {
   "cell_type": "code",
   "execution_count": null,
   "id": "governing-emerald",
   "metadata": {},
   "outputs": [],
   "source": [
    "bbb[\"rfm_iq\"] = "
   ]
  },
  {
   "cell_type": "markdown",
   "id": "virtual-jurisdiction",
   "metadata": {},
   "source": [
    "Next, create the sequential RFM variables using select `rec_iq` as the variable to group by for `freq_sq`. Select both `rec_iq` and `freq_sq` as the variables to group by for `mon_sq`. Note that we do not need to create a `rec_sq` variable as this is equivalent to `rec_iq`."
   ]
  },
  {
   "cell_type": "code",
   "execution_count": null,
   "id": "editorial-american",
   "metadata": {},
   "outputs": [],
   "source": [
    "bbb[\"freq_sq\"] = \n",
    "bbb[\"mon_sq\"] = "
   ]
  },
  {
   "cell_type": "markdown",
   "id": "juvenile-warrior",
   "metadata": {},
   "source": [
    "Next create the `rfm_sq` index."
   ]
  },
  {
   "cell_type": "code",
   "execution_count": null,
   "id": "controlled-county",
   "metadata": {},
   "outputs": [],
   "source": [
    "bbb[\"rfm_sq\"] = "
   ]
  },
  {
   "cell_type": "markdown",
   "id": "original-blame",
   "metadata": {},
   "source": [
    "The line in the plot below shows the break-even point. Cells with a response rate above 0.0247 are predicted to be profitable."
   ]
  },
  {
   "cell_type": "code",
   "execution_count": null,
   "id": "intimate-greece",
   "metadata": {},
   "outputs": [],
   "source": [
    "plt.figure(figsize=(16, 7))\n",
    "fig = rsm.prop_plot(\n",
    "    bbb[train], \"rfm_iq\", \"buyer\", \"yes\", breakeven=breakeven\n",
    ")\n",
    "fig.set_xticklabels(fig.get_xticklabels(), rotation=90)\n",
    "fig = fig.set(xlabel=\"Independent RFM index (rsm_iq)\")"
   ]
  },
  {
   "cell_type": "code",
   "execution_count": null,
   "id": "dominant-trial",
   "metadata": {},
   "outputs": [],
   "source": [
    "plt.figure(figsize=(16, 7))\n",
    "fig = rsm.prop_plot(\n",
    "    bbb[train], \"rfm_sq\", \"buyer\", \"yes\", breakeven=breakeven\n",
    ")\n",
    "fig.set_xticklabels(fig.get_xticklabels(), rotation=90)\n",
    "fig = fig.set(xlabel=\"Sequential RFM index (rsm_sq)\")"
   ]
  },
  {
   "cell_type": "code",
   "execution_count": null,
   "id": "b34444a3-e1ec-4491-864b-8baf2569123c",
   "metadata": {},
   "outputs": [],
   "source": [
    "Demonstrate ghat a logistic regression can be just as flexible as an RFM model (i.e., avoid imposing any relationship between RFM and the probability/odds of response)"
   ]
  },
  {
   "cell_type": "code",
   "execution_count": null,
   "id": "c615307c-e326-4e1d-823f-a41861a32a55",
   "metadata": {},
   "outputs": [],
   "source": [
    "lr = smf.glm(\n",
    "    formula=\"buyer_yes ~ rfm_sq\",\n",
    "    family=Binomial(link=logit()),\n",
    "    data=bbb[train],\n",
    ").fit()"
   ]
  },
  {
   "cell_type": "code",
   "execution_count": null,
   "id": "labeled-racing",
   "metadata": {},
   "outputs": [],
   "source": [
    "rsm.or_ci(lr)"
   ]
  },
  {
   "cell_type": "code",
   "execution_count": null,
   "id": "advisory-trustee",
   "metadata": {},
   "outputs": [],
   "source": [
    "bbb[\"resp_logit\"] = lr.predict(bbb)"
   ]
  },
  {
   "cell_type": "code",
   "execution_count": null,
   "id": "simplified-stamp",
   "metadata": {},
   "outputs": [],
   "source": [
    "rfm_logit = bbb.groupby(\"rfm_sq\").resp_logit.agg(np.nanmean).reset_index()\n",
    "plt.figure(figsize=(16, 7))\n",
    "fig = sns.barplot(x=\"rfm_sq\", y=\"resp_logit\", color=\"slateblue\", data=rfm_logit)\n",
    "fig.axhline(breakeven, linestyle=\"dashed\", linewidth=1)\n",
    "fig.set_xticklabels(fig.get_xticklabels(), rotation=90)\n",
    "fig = fig.set(\n",
    "    xlabel=\"Sequential RFM index (rsm_sq)\",\n",
    "    ylabel=\"Predicted probability of buyer equal to 'yes'\",\n",
    ")"
   ]
  },
  {
   "cell_type": "code",
   "execution_count": null,
   "id": "collect-blind",
   "metadata": {},
   "outputs": [],
   "source": [
    "def perf_calc(\n",
    "    df, mail, intro=\"\", perf=\"buyer\", lev=\"yes\", cost=cost, margin=margin, prn=True\n",
    "):\n",
    "    \"\"\"\n",
    "    A function to calculate performance stats for different targeting methods\n",
    "\n",
    "    Parameters\n",
    "    ----------\n",
    "    df : Pandas dataframe\n",
    "    intro: str\n",
    "        Text introduction to use for printed performance output\n",
    "    mail: str\n",
    "        Column name of the mailing variable to use\n",
    "    perf: str\n",
    "        Column name of the performance variable to use\n",
    "    lev : str\n",
    "        Level in performance variable to use\n",
    "    prn : bool\n",
    "        Print performance output (True or False)\n",
    "\n",
    "    Returns\n",
    "    -------\n",
    "    profit : float\n",
    "        Estimate of the profit from the selected targeting strategy applied to the full customer database\n",
    "    ROME : float\n",
    "        Estimate of theh return on marketing investment (ROME) from the selected targeting strategy applied to the full customer database\n",
    "    \"\"\"\n",
    "\n",
    "\n",
    "    # add your code here\n",
    "    \n",
    "    return profit, ROME"
   ]
  },
  {
   "cell_type": "code",
   "execution_count": null,
   "id": "level-congress",
   "metadata": {},
   "outputs": [],
   "source": [
    "profit_nt, ROME_nt = perf_calc(\n",
    "    bbb.assign(mailto_nt=True), mail=\"mailto_nt\", intro=\"If bbb does not apply targeting\"\n",
    ")"
   ]
  },
  {
   "cell_type": "markdown",
   "id": "intellectual-matthew",
   "metadata": {},
   "source": [
    "Offering the deal only to those the customers in (sequential)\n",
    "\n",
    "RFM cells with a response rate that is greater than the breakeven response rate. Specifically, follow these steps:\n",
    "- Determine which RFM cells (using the sequential n-tiles approach) have response rates exceeding the breakeven rate\n",
    "- Determine the number of customers in these profitable cells\n",
    "- Determine the number of buyers in these profitable cells\n",
    "- Determine the projected profit and the return on marketing expenditures"
   ]
  },
  {
   "cell_type": "code",
   "execution_count": null,
   "id": "sixth-pantyhose",
   "metadata": {},
   "outputs": [],
   "source": [
    "def mailto(x, breakeven):\n",
    "    return np.nanmean(x) > breakeven"
   ]
  },
  {
   "cell_type": "code",
   "execution_count": null,
   "id": "humanitarian-cartoon",
   "metadata": {
    "lines_to_next_cell": 2
   },
   "outputs": [],
   "source": [
    "bbb[\"mailto_iq\"] = bbb.groupby(\"rfm_iq\").buyer_yes.transform(\n",
    "    mailto, breakeven=breakeven\n",
    ")\n",
    "\n",
    "profit_iq, ROME_iq = perf_calc(bbb, mail=\"mailto_iq\", intro=\"Based on independent RFM\")"
   ]
  },
  {
   "cell_type": "code",
   "execution_count": null,
   "id": "infrared-roads",
   "metadata": {},
   "outputs": [],
   "source": [
    "bbb[\"mailto_sq\"] = bbb.groupby(\"rfm_sq\").buyer_yes.transform(\n",
    "    mailto, breakeven=breakeven\n",
    ")\n",
    "profit_sq, ROME_sq = perf_calc(bbb, mail=\"mailto_sq\", intro=\"Based on sequential RFM\")"
   ]
  },
  {
   "cell_type": "code",
   "execution_count": null,
   "id": "vital-probe",
   "metadata": {},
   "outputs": [],
   "source": [
    "bbb[\"mailto_logit\"] = bbb.resp_logit > breakeven\n",
    "profit_lr, ROME_lr = perf_calc(\n",
    "    bbb, mail=\"mailto_logit\", intro=\"Based on logistic regression\"\n",
    ")"
   ]
  },
  {
   "cell_type": "code",
   "execution_count": null,
   "id": "productive-birthday",
   "metadata": {},
   "outputs": [],
   "source": [
    "bbb[\"resp_rfm_iq\"] = bbb.groupby(\"rfm_iq\")[\"buyer_yes\"].transform(np.nanmean)\n",
    "bbb[\"resp_rfm_sq\"] = bbb.groupby(\"rfm_sq\")[\"buyer_yes\"].transform(np.nanmean)\n",
    "bbb[\"breakeven\"] = breakeven"
   ]
  },
  {
   "cell_type": "markdown",
   "id": "amended-employee",
   "metadata": {},
   "source": [
    "### Create a plot with all profit and ROME numbers"
   ]
  },
  {
   "cell_type": "code",
   "execution_count": null,
   "id": "religious-resource",
   "metadata": {},
   "outputs": [],
   "source": [
    "dat = pd.DataFrame(\n",
    "    {\n",
    "        \"name\": [\"No targeting\", \"Indep. RFM\", \"Seq. RFM\", \"Logit\"],\n",
    "        \"Profit\": [profit_nt, profit_iq, profit_sq, profit_lr],\n",
    "        \"ROME\": [ROME_nt, ROME_iq, ROME_sq, ROME_lr],\n",
    "    }\n",
    ")"
   ]
  },
  {
   "cell_type": "code",
   "execution_count": null,
   "id": "random-option",
   "metadata": {
    "lines_to_next_cell": 2
   },
   "outputs": [],
   "source": [
    "plt.figure(figsize=(8, 5))\n",
    "fig = sns.barplot(x=\"name\", y=\"Profit\", color=\"slateblue\", data=dat)\n",
    "fig.set(xlabel=\"\", ylabel=\"Profit\", title=\"Campaign profit\")\n",
    "for index, row in dat.iterrows():\n",
    "    fig.text(\n",
    "        row.name, row.Profit * 0.8, f\"{row.Profit:,.0f}\", ha=\"center\", color=\"white\"\n",
    "    )"
   ]
  },
  {
   "cell_type": "code",
   "execution_count": null,
   "id": "neural-indicator",
   "metadata": {},
   "outputs": [],
   "source": [
    "plt.figure(figsize=(8, 5))\n",
    "fig = sns.barplot(x=\"name\", y=\"ROME\", color=\"slateblue\", data=dat)\n",
    "fig.set(xlabel=\"\", ylabel=\"ROME\", title=\"Return on Marketing Expenditures (ROME)\")\n",
    "for index, row in dat.iterrows():\n",
    "    fig.text(\n",
    "        row.name,\n",
    "        row.ROME * 0.8,\n",
    "        f\"{round((100*row.ROME), 2):,}%\",\n",
    "        ha=\"center\",\n",
    "        color=\"white\",\n",
    "    )"
   ]
  },
  {
   "cell_type": "markdown",
   "id": "acceptable-turner",
   "metadata": {},
   "source": [
    "## Determine the list if prospects to target based on sequential RFM\n",
    "\n",
    "Get the list of prospect to contact from the rest of the customer database. Your csv file should *only* contain information on acctnum for the prospect to target and nothing else"
   ]
  },
  {
   "cell_type": "code",
   "execution_count": null,
   "id": "indonesian-robin",
   "metadata": {},
   "outputs": [],
   "source": [
    "to_contact = \n",
    "to_contact.acctnum.to_csv(\"rfm_sq_to_contact.csv\", index=False)"
   ]
  },
  {
   "cell_type": "code",
   "execution_count": null,
   "id": "unsigned-tackle",
   "metadata": {},
   "outputs": [],
   "source": []
  }
 ],
 "metadata": {
  "jupytext": {
   "cell_metadata_filter": "-all",
   "main_language": "python",
   "notebook_metadata_filter": "-all"
  },
  "kernelspec": {
   "display_name": "Python 3 (ipykernel)",
   "language": "python",
   "name": "python3"
  },
  "language_info": {
   "codemirror_mode": {
    "name": "ipython",
    "version": 3
   },
   "file_extension": ".py",
   "mimetype": "text/x-python",
   "name": "python",
   "nbconvert_exporter": "python",
   "pygments_lexer": "ipython3",
   "version": "3.9.10"
  }
 },
 "nbformat": 4,
 "nbformat_minor": 5
}
