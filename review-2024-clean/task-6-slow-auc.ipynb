{
 "cells": [
  {
   "cell_type": "markdown",
   "id": "young-stadium",
   "metadata": {},
   "source": [
    "# The slow way to generate an ROC curve"
   ]
  },
  {
   "cell_type": "code",
   "execution_count": 1,
   "id": "welsh-franklin",
   "metadata": {},
   "outputs": [
    {
     "name": "stdout",
     "output_type": "stream",
     "text": [
      "The history saving thread hit an unexpected error (DatabaseError('database disk image is malformed')).History will not be written to the database.\n"
     ]
    }
   ],
   "source": [
    "import matplotlib as mpl\n",
    "import matplotlib.pyplot as plt\n",
    "import numpy as np\n",
    "import pandas as pd\n",
    "import pyrsm as rsm\n",
    "import seaborn as sns\n",
    "import statsmodels.formula.api as smf\n",
    "from sklearn.metrics import auc, roc_curve\n",
    "from statsmodels.genmod.families import Binomial\n",
    "from statsmodels.genmod.families.links import logit\n",
    "\n",
    "# increase plot resolution\n",
    "mpl.rcParams[\"figure.dpi\"] = 150"
   ]
  },
  {
   "cell_type": "code",
   "execution_count": 2,
   "id": "corresponding-killing",
   "metadata": {},
   "outputs": [
    {
     "data": {
      "text/html": [
       "<div>\n",
       "<style scoped>\n",
       "    .dataframe tbody tr th:only-of-type {\n",
       "        vertical-align: middle;\n",
       "    }\n",
       "\n",
       "    .dataframe tbody tr th {\n",
       "        vertical-align: top;\n",
       "    }\n",
       "\n",
       "    .dataframe thead th {\n",
       "        text-align: right;\n",
       "    }\n",
       "</style>\n",
       "<table border=\"1\" class=\"dataframe\">\n",
       "  <thead>\n",
       "    <tr style=\"text-align: right;\">\n",
       "      <th></th>\n",
       "      <th>acctnum</th>\n",
       "      <th>gender</th>\n",
       "      <th>state</th>\n",
       "      <th>zip</th>\n",
       "      <th>zip3</th>\n",
       "      <th>first</th>\n",
       "      <th>last</th>\n",
       "      <th>book</th>\n",
       "      <th>nonbook</th>\n",
       "      <th>total</th>\n",
       "      <th>...</th>\n",
       "      <th>child</th>\n",
       "      <th>youth</th>\n",
       "      <th>cook</th>\n",
       "      <th>do_it</th>\n",
       "      <th>reference</th>\n",
       "      <th>art</th>\n",
       "      <th>geog</th>\n",
       "      <th>buyer</th>\n",
       "      <th>training</th>\n",
       "      <th>buyer_yes</th>\n",
       "    </tr>\n",
       "  </thead>\n",
       "  <tbody>\n",
       "    <tr>\n",
       "      <th>0</th>\n",
       "      <td>10001</td>\n",
       "      <td>M</td>\n",
       "      <td>NY</td>\n",
       "      <td>10605</td>\n",
       "      <td>106</td>\n",
       "      <td>49</td>\n",
       "      <td>29</td>\n",
       "      <td>109</td>\n",
       "      <td>248</td>\n",
       "      <td>357</td>\n",
       "      <td>...</td>\n",
       "      <td>3</td>\n",
       "      <td>2</td>\n",
       "      <td>2</td>\n",
       "      <td>0</td>\n",
       "      <td>1</td>\n",
       "      <td>0</td>\n",
       "      <td>2</td>\n",
       "      <td>no</td>\n",
       "      <td>1</td>\n",
       "      <td>0</td>\n",
       "    </tr>\n",
       "    <tr>\n",
       "      <th>1</th>\n",
       "      <td>10002</td>\n",
       "      <td>M</td>\n",
       "      <td>NY</td>\n",
       "      <td>10960</td>\n",
       "      <td>109</td>\n",
       "      <td>39</td>\n",
       "      <td>27</td>\n",
       "      <td>35</td>\n",
       "      <td>103</td>\n",
       "      <td>138</td>\n",
       "      <td>...</td>\n",
       "      <td>0</td>\n",
       "      <td>1</td>\n",
       "      <td>0</td>\n",
       "      <td>1</td>\n",
       "      <td>0</td>\n",
       "      <td>0</td>\n",
       "      <td>1</td>\n",
       "      <td>no</td>\n",
       "      <td>1</td>\n",
       "      <td>0</td>\n",
       "    </tr>\n",
       "    <tr>\n",
       "      <th>2</th>\n",
       "      <td>10003</td>\n",
       "      <td>F</td>\n",
       "      <td>PA</td>\n",
       "      <td>19146</td>\n",
       "      <td>191</td>\n",
       "      <td>19</td>\n",
       "      <td>15</td>\n",
       "      <td>25</td>\n",
       "      <td>147</td>\n",
       "      <td>172</td>\n",
       "      <td>...</td>\n",
       "      <td>0</td>\n",
       "      <td>0</td>\n",
       "      <td>2</td>\n",
       "      <td>0</td>\n",
       "      <td>0</td>\n",
       "      <td>0</td>\n",
       "      <td>0</td>\n",
       "      <td>no</td>\n",
       "      <td>0</td>\n",
       "      <td>0</td>\n",
       "    </tr>\n",
       "    <tr>\n",
       "      <th>3</th>\n",
       "      <td>10004</td>\n",
       "      <td>F</td>\n",
       "      <td>NJ</td>\n",
       "      <td>07016</td>\n",
       "      <td>070</td>\n",
       "      <td>7</td>\n",
       "      <td>7</td>\n",
       "      <td>15</td>\n",
       "      <td>257</td>\n",
       "      <td>272</td>\n",
       "      <td>...</td>\n",
       "      <td>0</td>\n",
       "      <td>0</td>\n",
       "      <td>0</td>\n",
       "      <td>0</td>\n",
       "      <td>1</td>\n",
       "      <td>0</td>\n",
       "      <td>0</td>\n",
       "      <td>no</td>\n",
       "      <td>0</td>\n",
       "      <td>0</td>\n",
       "    </tr>\n",
       "    <tr>\n",
       "      <th>4</th>\n",
       "      <td>10005</td>\n",
       "      <td>F</td>\n",
       "      <td>NY</td>\n",
       "      <td>10804</td>\n",
       "      <td>108</td>\n",
       "      <td>15</td>\n",
       "      <td>15</td>\n",
       "      <td>15</td>\n",
       "      <td>134</td>\n",
       "      <td>149</td>\n",
       "      <td>...</td>\n",
       "      <td>0</td>\n",
       "      <td>0</td>\n",
       "      <td>1</td>\n",
       "      <td>0</td>\n",
       "      <td>0</td>\n",
       "      <td>0</td>\n",
       "      <td>0</td>\n",
       "      <td>no</td>\n",
       "      <td>1</td>\n",
       "      <td>0</td>\n",
       "    </tr>\n",
       "    <tr>\n",
       "      <th>...</th>\n",
       "      <td>...</td>\n",
       "      <td>...</td>\n",
       "      <td>...</td>\n",
       "      <td>...</td>\n",
       "      <td>...</td>\n",
       "      <td>...</td>\n",
       "      <td>...</td>\n",
       "      <td>...</td>\n",
       "      <td>...</td>\n",
       "      <td>...</td>\n",
       "      <td>...</td>\n",
       "      <td>...</td>\n",
       "      <td>...</td>\n",
       "      <td>...</td>\n",
       "      <td>...</td>\n",
       "      <td>...</td>\n",
       "      <td>...</td>\n",
       "      <td>...</td>\n",
       "      <td>...</td>\n",
       "      <td>...</td>\n",
       "      <td>...</td>\n",
       "    </tr>\n",
       "    <tr>\n",
       "      <th>49995</th>\n",
       "      <td>59996</td>\n",
       "      <td>F</td>\n",
       "      <td>NY</td>\n",
       "      <td>11967</td>\n",
       "      <td>119</td>\n",
       "      <td>9</td>\n",
       "      <td>9</td>\n",
       "      <td>15</td>\n",
       "      <td>12</td>\n",
       "      <td>27</td>\n",
       "      <td>...</td>\n",
       "      <td>1</td>\n",
       "      <td>0</td>\n",
       "      <td>0</td>\n",
       "      <td>0</td>\n",
       "      <td>0</td>\n",
       "      <td>0</td>\n",
       "      <td>0</td>\n",
       "      <td>no</td>\n",
       "      <td>1</td>\n",
       "      <td>0</td>\n",
       "    </tr>\n",
       "    <tr>\n",
       "      <th>49996</th>\n",
       "      <td>59997</td>\n",
       "      <td>F</td>\n",
       "      <td>NJ</td>\n",
       "      <td>08882</td>\n",
       "      <td>088</td>\n",
       "      <td>25</td>\n",
       "      <td>5</td>\n",
       "      <td>79</td>\n",
       "      <td>294</td>\n",
       "      <td>373</td>\n",
       "      <td>...</td>\n",
       "      <td>3</td>\n",
       "      <td>0</td>\n",
       "      <td>1</td>\n",
       "      <td>1</td>\n",
       "      <td>0</td>\n",
       "      <td>1</td>\n",
       "      <td>1</td>\n",
       "      <td>no</td>\n",
       "      <td>1</td>\n",
       "      <td>0</td>\n",
       "    </tr>\n",
       "    <tr>\n",
       "      <th>49997</th>\n",
       "      <td>59998</td>\n",
       "      <td>M</td>\n",
       "      <td>NJ</td>\n",
       "      <td>07410</td>\n",
       "      <td>074</td>\n",
       "      <td>3</td>\n",
       "      <td>3</td>\n",
       "      <td>15</td>\n",
       "      <td>178</td>\n",
       "      <td>193</td>\n",
       "      <td>...</td>\n",
       "      <td>0</td>\n",
       "      <td>0</td>\n",
       "      <td>0</td>\n",
       "      <td>0</td>\n",
       "      <td>1</td>\n",
       "      <td>0</td>\n",
       "      <td>0</td>\n",
       "      <td>no</td>\n",
       "      <td>1</td>\n",
       "      <td>0</td>\n",
       "    </tr>\n",
       "    <tr>\n",
       "      <th>49998</th>\n",
       "      <td>59999</td>\n",
       "      <td>M</td>\n",
       "      <td>NJ</td>\n",
       "      <td>07090</td>\n",
       "      <td>070</td>\n",
       "      <td>49</td>\n",
       "      <td>29</td>\n",
       "      <td>98</td>\n",
       "      <td>246</td>\n",
       "      <td>344</td>\n",
       "      <td>...</td>\n",
       "      <td>2</td>\n",
       "      <td>0</td>\n",
       "      <td>1</td>\n",
       "      <td>0</td>\n",
       "      <td>2</td>\n",
       "      <td>1</td>\n",
       "      <td>2</td>\n",
       "      <td>no</td>\n",
       "      <td>1</td>\n",
       "      <td>0</td>\n",
       "    </tr>\n",
       "    <tr>\n",
       "      <th>49999</th>\n",
       "      <td>60000</td>\n",
       "      <td>M</td>\n",
       "      <td>NY</td>\n",
       "      <td>11355</td>\n",
       "      <td>113</td>\n",
       "      <td>29</td>\n",
       "      <td>1</td>\n",
       "      <td>60</td>\n",
       "      <td>125</td>\n",
       "      <td>185</td>\n",
       "      <td>...</td>\n",
       "      <td>1</td>\n",
       "      <td>0</td>\n",
       "      <td>1</td>\n",
       "      <td>0</td>\n",
       "      <td>0</td>\n",
       "      <td>1</td>\n",
       "      <td>2</td>\n",
       "      <td>no</td>\n",
       "      <td>1</td>\n",
       "      <td>0</td>\n",
       "    </tr>\n",
       "  </tbody>\n",
       "</table>\n",
       "<p>50000 rows × 21 columns</p>\n",
       "</div>"
      ],
      "text/plain": [
       "      acctnum gender state    zip zip3  first  last  book  nonbook  total  \\\n",
       "0       10001      M    NY  10605  106     49    29   109      248    357   \n",
       "1       10002      M    NY  10960  109     39    27    35      103    138   \n",
       "2       10003      F    PA  19146  191     19    15    25      147    172   \n",
       "3       10004      F    NJ  07016  070      7     7    15      257    272   \n",
       "4       10005      F    NY  10804  108     15    15    15      134    149   \n",
       "...       ...    ...   ...    ...  ...    ...   ...   ...      ...    ...   \n",
       "49995   59996      F    NY  11967  119      9     9    15       12     27   \n",
       "49996   59997      F    NJ  08882  088     25     5    79      294    373   \n",
       "49997   59998      M    NJ  07410  074      3     3    15      178    193   \n",
       "49998   59999      M    NJ  07090  070     49    29    98      246    344   \n",
       "49999   60000      M    NY  11355  113     29     1    60      125    185   \n",
       "\n",
       "       ...  child  youth  cook  do_it  reference  art  geog  buyer training  \\\n",
       "0      ...      3      2     2      0          1    0     2     no        1   \n",
       "1      ...      0      1     0      1          0    0     1     no        1   \n",
       "2      ...      0      0     2      0          0    0     0     no        0   \n",
       "3      ...      0      0     0      0          1    0     0     no        0   \n",
       "4      ...      0      0     1      0          0    0     0     no        1   \n",
       "...    ...    ...    ...   ...    ...        ...  ...   ...    ...      ...   \n",
       "49995  ...      1      0     0      0          0    0     0     no        1   \n",
       "49996  ...      3      0     1      1          0    1     1     no        1   \n",
       "49997  ...      0      0     0      0          1    0     0     no        1   \n",
       "49998  ...      2      0     1      0          2    1     2     no        1   \n",
       "49999  ...      1      0     1      0          0    1     2     no        1   \n",
       "\n",
       "       buyer_yes  \n",
       "0              0  \n",
       "1              0  \n",
       "2              0  \n",
       "3              0  \n",
       "4              0  \n",
       "...          ...  \n",
       "49995          0  \n",
       "49996          0  \n",
       "49997          0  \n",
       "49998          0  \n",
       "49999          0  \n",
       "\n",
       "[50000 rows x 21 columns]"
      ]
     },
     "execution_count": 2,
     "metadata": {},
     "output_type": "execute_result"
    }
   ],
   "source": [
    "# load data\n",
    "bbb = pd.read_pickle(\"data/bbb.pkl\")\n",
    "bbb[\"buyer_yes\"] = rsm.ifelse(bbb[\"buyer\"] == \"yes\", 1, 0)\n",
    "bbb"
   ]
  },
  {
   "cell_type": "code",
   "execution_count": 3,
   "id": "stable-banks",
   "metadata": {},
   "outputs": [
    {
     "data": {
      "text/markdown": [
       "# BookBinders Book Club\n",
       "\n",
       "Information on purchasing history and demographics for 50,000 of the BookBinders Book Club's customers'. Variables included in the dataset are described below\n",
       "\n",
       "## Variables\n",
       "\n",
       "* acctnum: Customer account number\n",
       "* gender: Customer gender - M=male, F=female\n",
       "* state: State where customer lives (2-character abbreviation)\n",
       "* zip: ZIP code (5-digit)\n",
       "* zip3: First 3 digits of ZIP code\n",
       "* first: Number of months since first purchase\n",
       "* last: Number of months since most recent purchase\n",
       "* book: Total dollars spent on books\n",
       "* nonbook: Total dollars spent on non-book products\n",
       "* total: Total dollars spent\n",
       "* purch: Total number of books purchased\n",
       "* child: Total number of children's books purchased\n",
       "* youth: Total number of youth books purchased\n",
       "* cook: Total number of cook books purchased \n",
       "* do_it: Total number of do-it-yourself books purchased \n",
       "* reference: Total number of reference books purchased \n",
       "* art: Total number of art books purchased \n",
       "* geog: Total number of geography books purchased \n",
       "* buyer: Did the customer buy The Art History of Florence?  (yes, no)\n",
       "* training: Dummy variable that splits the dataset into a training (1) and validation (0) dataset"
      ],
      "text/plain": [
       "<IPython.core.display.Markdown object>"
      ]
     },
     "metadata": {},
     "output_type": "display_data"
    }
   ],
   "source": [
    "# review the data\n",
    "rsm.describe(bbb)"
   ]
  },
  {
   "cell_type": "code",
   "execution_count": 4,
   "id": "filled-baptist",
   "metadata": {},
   "outputs": [],
   "source": [
    "evar = [\n",
    "    \"gender\",\n",
    "    \"last\",\n",
    "    \"total\",\n",
    "    \"child\",\n",
    "    \"youth\",\n",
    "    \"cook\",\n",
    "    \"do_it\",\n",
    "    \"reference\",\n",
    "    \"art\",\n",
    "    \"geog\",\n",
    "]"
   ]
  },
  {
   "cell_type": "code",
   "execution_count": 5,
   "id": "first-worthy",
   "metadata": {},
   "outputs": [
    {
     "data": {
      "text/html": [
       "<div>\n",
       "<style scoped>\n",
       "    .dataframe tbody tr th:only-of-type {\n",
       "        vertical-align: middle;\n",
       "    }\n",
       "\n",
       "    .dataframe tbody tr th {\n",
       "        vertical-align: top;\n",
       "    }\n",
       "\n",
       "    .dataframe thead th {\n",
       "        text-align: right;\n",
       "    }\n",
       "</style>\n",
       "<table border=\"1\" class=\"dataframe\">\n",
       "  <thead>\n",
       "    <tr style=\"text-align: right;\">\n",
       "      <th></th>\n",
       "      <th>index</th>\n",
       "      <th>OR</th>\n",
       "      <th>OR%</th>\n",
       "      <th>2.5%</th>\n",
       "      <th>97.5%</th>\n",
       "      <th>p.values</th>\n",
       "      <th></th>\n",
       "    </tr>\n",
       "  </thead>\n",
       "  <tbody>\n",
       "    <tr>\n",
       "      <th>1</th>\n",
       "      <td>gender[T.M]</td>\n",
       "      <td>2.140</td>\n",
       "      <td>114.0%</td>\n",
       "      <td>1.995</td>\n",
       "      <td>2.295</td>\n",
       "      <td>&lt; .001</td>\n",
       "      <td>***</td>\n",
       "    </tr>\n",
       "    <tr>\n",
       "      <th>2</th>\n",
       "      <td>last</td>\n",
       "      <td>0.910</td>\n",
       "      <td>-9.0%</td>\n",
       "      <td>0.905</td>\n",
       "      <td>0.915</td>\n",
       "      <td>&lt; .001</td>\n",
       "      <td>***</td>\n",
       "    </tr>\n",
       "    <tr>\n",
       "      <th>3</th>\n",
       "      <td>total</td>\n",
       "      <td>1.001</td>\n",
       "      <td>0.1%</td>\n",
       "      <td>1.001</td>\n",
       "      <td>1.002</td>\n",
       "      <td>&lt; .001</td>\n",
       "      <td>***</td>\n",
       "    </tr>\n",
       "    <tr>\n",
       "      <th>4</th>\n",
       "      <td>child</td>\n",
       "      <td>0.830</td>\n",
       "      <td>-17.0%</td>\n",
       "      <td>0.802</td>\n",
       "      <td>0.859</td>\n",
       "      <td>&lt; .001</td>\n",
       "      <td>***</td>\n",
       "    </tr>\n",
       "    <tr>\n",
       "      <th>5</th>\n",
       "      <td>youth</td>\n",
       "      <td>0.893</td>\n",
       "      <td>-10.7%</td>\n",
       "      <td>0.849</td>\n",
       "      <td>0.940</td>\n",
       "      <td>&lt; .001</td>\n",
       "      <td>***</td>\n",
       "    </tr>\n",
       "    <tr>\n",
       "      <th>6</th>\n",
       "      <td>cook</td>\n",
       "      <td>0.763</td>\n",
       "      <td>-23.7%</td>\n",
       "      <td>0.738</td>\n",
       "      <td>0.789</td>\n",
       "      <td>&lt; .001</td>\n",
       "      <td>***</td>\n",
       "    </tr>\n",
       "    <tr>\n",
       "      <th>7</th>\n",
       "      <td>do_it</td>\n",
       "      <td>0.583</td>\n",
       "      <td>-41.7%</td>\n",
       "      <td>0.553</td>\n",
       "      <td>0.615</td>\n",
       "      <td>&lt; .001</td>\n",
       "      <td>***</td>\n",
       "    </tr>\n",
       "    <tr>\n",
       "      <th>8</th>\n",
       "      <td>reference</td>\n",
       "      <td>1.265</td>\n",
       "      <td>26.5%</td>\n",
       "      <td>1.200</td>\n",
       "      <td>1.332</td>\n",
       "      <td>&lt; .001</td>\n",
       "      <td>***</td>\n",
       "    </tr>\n",
       "    <tr>\n",
       "      <th>9</th>\n",
       "      <td>art</td>\n",
       "      <td>3.176</td>\n",
       "      <td>217.6%</td>\n",
       "      <td>3.041</td>\n",
       "      <td>3.317</td>\n",
       "      <td>&lt; .001</td>\n",
       "      <td>***</td>\n",
       "    </tr>\n",
       "    <tr>\n",
       "      <th>10</th>\n",
       "      <td>geog</td>\n",
       "      <td>1.776</td>\n",
       "      <td>77.6%</td>\n",
       "      <td>1.712</td>\n",
       "      <td>1.842</td>\n",
       "      <td>&lt; .001</td>\n",
       "      <td>***</td>\n",
       "    </tr>\n",
       "  </tbody>\n",
       "</table>\n",
       "</div>"
      ],
      "text/plain": [
       "          index     OR     OR%   2.5%  97.5% p.values     \n",
       "1   gender[T.M]  2.140  114.0%  1.995  2.295   < .001  ***\n",
       "2          last  0.910   -9.0%  0.905  0.915   < .001  ***\n",
       "3         total  1.001    0.1%  1.001  1.002   < .001  ***\n",
       "4         child  0.830  -17.0%  0.802  0.859   < .001  ***\n",
       "5         youth  0.893  -10.7%  0.849  0.940   < .001  ***\n",
       "6          cook  0.763  -23.7%  0.738  0.789   < .001  ***\n",
       "7         do_it  0.583  -41.7%  0.553  0.615   < .001  ***\n",
       "8     reference  1.265   26.5%  1.200  1.332   < .001  ***\n",
       "9           art  3.176  217.6%  3.041  3.317   < .001  ***\n",
       "10         geog  1.776   77.6%  1.712  1.842   < .001  ***"
      ]
     },
     "execution_count": 5,
     "metadata": {},
     "output_type": "execute_result"
    }
   ],
   "source": [
    "form = \"buyer_yes ~ \" + \" + \".join(evar)\n",
    "lr = smf.glm(formula=form, family=Binomial(link=logit()), data=bbb).fit()\n",
    "# lr.summary()\n",
    "rsm.or_ci(lr)"
   ]
  },
  {
   "cell_type": "code",
   "execution_count": 6,
   "id": "ideal-blade",
   "metadata": {},
   "outputs": [],
   "source": [
    "bbb[\"pred_logit\"] = lr.predict(bbb)"
   ]
  },
  {
   "cell_type": "markdown",
   "id": "cutting-abraham",
   "metadata": {
    "lines_to_next_cell": 2
   },
   "source": [
    "Function to calculate the TPR and TNR at different trade-off values (and break-even values)"
   ]
  },
  {
   "cell_type": "code",
   "execution_count": 7,
   "id": "classical-creek",
   "metadata": {
    "lines_to_next_cell": 2
   },
   "outputs": [],
   "source": [
    "def slow_roc(outcome, pred, cost, margin):\n",
    "    tbl = pd.DataFrame(\n",
    "        {\n",
    "            \"cost\": cost,\n",
    "            \"margin\": margin,\n",
    "            \"BE\": cost / margin,\n",
    "            \"TP\": np.nan,\n",
    "            \"FP\": np.nan,\n",
    "            \"TN\": np.nan,\n",
    "            \"FN\": np.nan,\n",
    "            \"TNR\": np.nan,\n",
    "            \"TPR\": np.nan,\n",
    "        }\n",
    "    )\n",
    "    for i in range(len(cost)):\n",
    "        breakeven = tbl.loc[i, \"BE\"]\n",
    "        TP = ((pred > breakeven) & outcome).sum()\n",
    "        FP = ((pred > breakeven) & (outcome == False)).sum()\n",
    "        TN = ((pred <= breakeven) & (outcome == False)).sum()\n",
    "        FN = ((pred <= breakeven) & outcome).sum()\n",
    "        # TP = np.where((pred > breakeven) & outcome, 1, 0).sum()\n",
    "        # FP = np.where((pred > breakeven) & (outcome == False), 1, 0).sum()\n",
    "        # TN = np.where((pred <= breakeven) & (outcome == False), 1, 0).sum()\n",
    "        # FN = np.where((pred <= breakeven) & outcome, 1, 0).sum()\n",
    " \n",
    "        TPR = TP / (TP + FN)\n",
    "        TNR = TN / (TN + FP)\n",
    "        tbl.iloc[i, 3:9] = [TP, FP, TN, FN, TNR, TPR]\n",
    "\n",
    "    return tbl"
   ]
  },
  {
   "cell_type": "markdown",
   "id": "matched-closing",
   "metadata": {},
   "source": [
    "Creating the data for the ROC curve"
   ]
  },
  {
   "cell_type": "code",
   "execution_count": 8,
   "id": "executive-bristol",
   "metadata": {},
   "outputs": [],
   "source": [
    "outcome = bbb[\"buyer\"] == \"yes\"\n",
    "pred = bbb[\"pred_logit\"]\n",
    "cost = np.arange(0.0, 6.0, 0.05)\n",
    "roc_data = slow_roc(outcome, pred, cost=cost, margin=6)"
   ]
  },
  {
   "cell_type": "markdown",
   "id": "compact-farmer",
   "metadata": {},
   "source": [
    "Plotting the ROC curve. The axes are TPR and TNR\n",
    "\n",
    "* TPR is the true positive rate: TP / (TP + FN)\n",
    "\n",
    "The TPR measures the proportion of actual positive outcomes that are correctly predicted by the model\n",
    "\n",
    "* TNR is the true negative rate: TN / (TN + FP)\n",
    "\n",
    "The TNR measures the proportion of actual negative outcomes that are correctly predicted by the model\n"
   ]
  },
  {
   "cell_type": "code",
   "execution_count": 9,
   "id": "specific-graph",
   "metadata": {},
   "outputs": [
    {
     "data": {
      "image/png": "[encoded data removed]",
      "text/plain": [
       "<Figure size 900x600 with 1 Axes>"
      ]
     },
     "metadata": {
      "needs_background": "light"
     },
     "output_type": "display_data"
    }
   ],
   "source": [
    "plt.cla()\n",
    "fig = sns.lineplot(x=\"TNR\", y=\"TPR\", data=roc_data)\n",
    "fig.set(ylabel=\"TPR (Sensitivity)\", xlabel=\"TNR (Specificity)\")\n",
    "plt.gca().invert_xaxis()\n",
    "fig.plot([0, 1], [0, 1], transform=fig.transAxes, linestyle=\"--\")\n",
    "plt.show()"
   ]
  },
  {
   "cell_type": "markdown",
   "id": "noble-friendly",
   "metadata": {},
   "source": [
    "Calculating the TPR and TNR for the break-even point in the BBB case"
   ]
  },
  {
   "cell_type": "code",
   "execution_count": 10,
   "id": "atmospheric-tulsa",
   "metadata": {},
   "outputs": [],
   "source": [
    "bbb_to = slow_roc(outcome, pred, cost=np.array([0.5]), margin=6)"
   ]
  },
  {
   "cell_type": "code",
   "execution_count": 11,
   "id": "excessive-father",
   "metadata": {},
   "outputs": [
    {
     "data": {
      "image/png": "[encoded data removed]",
      "text/plain": [
       "<Figure size 900x600 with 1 Axes>"
      ]
     },
     "metadata": {
      "needs_background": "light"
     },
     "output_type": "display_data"
    }
   ],
   "source": [
    "plt.cla()\n",
    "fig = sns.lineplot(x=\"TNR\", y=\"TPR\", data=roc_data)\n",
    "fig.set(ylabel=\"TPR (Sensitivity)\", xlabel=\"TNR (Specificity)\")\n",
    "plt.gca().invert_xaxis()\n",
    "plt.gca().set_aspect(\"equal\", adjustable=\"box\")\n",
    "fig.plot([0, 1], [0, 1], transform=fig.transAxes, linestyle=\"--\")\n",
    "plt.scatter(bbb_to[\"TNR\"], bbb_to[\"TPR\"], s=50, color=\"red\")\n",
    "plt.annotate(\"cost: 0.5, BE: 0.083\", (bbb_to[\"TNR\"] - 0.03, bbb_to[\"TPR\"]))\n",
    "plt.show()"
   ]
  },
  {
   "cell_type": "code",
   "execution_count": 12,
   "id": "mediterranean-still",
   "metadata": {},
   "outputs": [],
   "source": [
    "bbb_to = slow_roc(outcome, pred, cost=np.array([6]), margin=6)"
   ]
  },
  {
   "cell_type": "code",
   "execution_count": 13,
   "id": "brief-pittsburgh",
   "metadata": {},
   "outputs": [
    {
     "data": {
      "image/png": "[encoded data removed]",
      "text/plain": [
       "<Figure size 900x600 with 1 Axes>"
      ]
     },
     "metadata": {
      "needs_background": "light"
     },
     "output_type": "display_data"
    }
   ],
   "source": [
    "plt.cla()\n",
    "fig = sns.lineplot(x=\"TNR\", y=\"TPR\", data=roc_data)\n",
    "fig.set(ylabel=\"TPR (Sensitivity)\", xlabel=\"TNR (Specificity)\")\n",
    "plt.gca().invert_xaxis()\n",
    "plt.gca().set_aspect(\"equal\", adjustable=\"box\")\n",
    "fig.plot([0, 1], [0, 1], transform=fig.transAxes, linestyle=\"--\")\n",
    "plt.scatter(bbb_to[\"TNR\"], bbb_to[\"TPR\"], s=50, color=\"red\")\n",
    "plt.annotate(\"cost: 6, BE: 1\", (bbb_to[\"TNR\"] - 0.03, bbb_to[\"TPR\"]))\n",
    "plt.show()"
   ]
  },
  {
   "cell_type": "code",
   "execution_count": 14,
   "id": "inappropriate-disney",
   "metadata": {},
   "outputs": [],
   "source": [
    "bbb_to = slow_roc(outcome, pred, cost=np.array([0]), margin=6)"
   ]
  },
  {
   "cell_type": "code",
   "execution_count": 15,
   "id": "polish-league",
   "metadata": {},
   "outputs": [
    {
     "data": {
      "image/png": "[encoded data removed]",
      "text/plain": [
       "<Figure size 900x600 with 1 Axes>"
      ]
     },
     "metadata": {
      "needs_background": "light"
     },
     "output_type": "display_data"
    }
   ],
   "source": [
    "plt.cla()\n",
    "fig = sns.lineplot(x=\"TNR\", y=\"TPR\", data=roc_data)\n",
    "fig.set(ylabel=\"TPR (Sensitivity)\", xlabel=\"TNR (Specificity)\")\n",
    "plt.gca().invert_xaxis()\n",
    "plt.gca().set_aspect(\"equal\", adjustable=\"box\")\n",
    "fig.plot([0, 1], [0, 1], transform=fig.transAxes, linestyle=\"--\")\n",
    "plt.scatter(bbb_to[\"TNR\"], bbb_to[\"TPR\"], s=50, color=\"red\")\n",
    "plt.annotate(\"cost: 0, BE: 0\", (bbb_to[\"TNR\"] + 0.5, bbb_to[\"TPR\"]))\n",
    "plt.show()"
   ]
  },
  {
   "cell_type": "markdown",
   "id": "expensive-restriction",
   "metadata": {},
   "source": [
    "Confirm plot with roc_curve from sklearn"
   ]
  },
  {
   "cell_type": "code",
   "execution_count": 16,
   "id": "genuine-admission",
   "metadata": {},
   "outputs": [],
   "source": [
    "fpr, tpr, thresholds = roc_curve(bbb.buyer_yes, bbb.pred_logit)\n",
    "py_roc = pd.DataFrame({\"FPR\": fpr, \"TPR\": tpr})"
   ]
  },
  {
   "cell_type": "code",
   "execution_count": 17,
   "id": "generic-college",
   "metadata": {},
   "outputs": [
    {
     "data": {
      "image/png": "[encoded data removed]",
      "text/plain": [
       "<Figure size 900x600 with 1 Axes>"
      ]
     },
     "metadata": {
      "needs_background": "light"
     },
     "output_type": "display_data"
    }
   ],
   "source": [
    "# slow!\n",
    "plt.cla()\n",
    "fig = sns.lineplot(x=\"FPR\", y=\"TPR\", data=py_roc)\n",
    "fig.set(ylabel=\"TPR (Sensitivity)\", xlabel=\"FPR\")\n",
    "fig.plot([0, 1], [0, 1], transform=fig.transAxes, linestyle=\"--\")\n",
    "plt.show()"
   ]
  },
  {
   "cell_type": "markdown",
   "id": "brilliant-field",
   "metadata": {},
   "source": [
    "### Probabilistic interpretation of AUC\n",
    "\n",
    "See https://www.alexejgossmann.com/auc/ for a nice discussion"
   ]
  },
  {
   "cell_type": "code",
   "execution_count": 26,
   "id": "addressed-casting",
   "metadata": {},
   "outputs": [],
   "source": [
    "# Adapted from Alexej's code\n",
    "s = 0\n",
    "did_buy = np.where(outcome == True)[0]\n",
    "did_not_buy = np.where(outcome == False)[0]\n"
   ]
  },
  {
   "cell_type": "code",
   "execution_count": 27,
   "id": "ccc30acf",
   "metadata": {},
   "outputs": [
    {
     "data": {
      "text/plain": [
       "0.811741575004971"
      ]
     },
     "execution_count": 27,
     "metadata": {},
     "output_type": "execute_result"
    }
   ],
   "source": [
    "\n",
    "for i in did_buy:\n",
    "    s = s + (pred[i] > pred[did_not_buy]).sum()\n",
    "    s = s + (pred[i] == pred[did_not_buy]).sum() / 2\n",
    "\n",
    "s / ((outcome == True).sum() * (outcome == False).sum())"
   ]
  },
  {
   "cell_type": "markdown",
   "id": "posted-commercial",
   "metadata": {},
   "source": [
    "Lets compare that result to what we would get with a formal calculation:"
   ]
  },
  {
   "cell_type": "code",
   "execution_count": 28,
   "id": "democratic-closing",
   "metadata": {},
   "outputs": [
    {
     "data": {
      "text/plain": [
       "0.8117415750049711"
      ]
     },
     "execution_count": 28,
     "metadata": {},
     "output_type": "execute_result"
    }
   ],
   "source": [
    "auc(fpr, tpr)"
   ]
  },
  {
   "cell_type": "markdown",
   "id": "hearing-activity",
   "metadata": {},
   "source": [
    "Lets try a sampling approach"
   ]
  },
  {
   "cell_type": "code",
   "execution_count": 29,
   "id": "agreed-diesel",
   "metadata": {},
   "outputs": [
    {
     "data": {
      "text/plain": [
       "0.8195"
      ]
     },
     "execution_count": 29,
     "metadata": {},
     "output_type": "execute_result"
    }
   ],
   "source": [
    "pred_did_buy = pred[did_buy]\n",
    "pred_did_not_buy = pred[did_not_buy]\n",
    "nr = 2000\n",
    "(np.random.choice(pred_did_buy, nr) > np.random.choice(pred_did_not_buy, nr)).mean()"
   ]
  },
  {
   "cell_type": "markdown",
   "id": "artificial-traveler",
   "metadata": {},
   "source": [
    "Lets do repeated simulation as that should get us closer to the true value"
   ]
  },
  {
   "cell_type": "code",
   "execution_count": 30,
   "id": "guided-wages",
   "metadata": {},
   "outputs": [
    {
     "data": {
      "text/plain": [
       "0.8115849999999999"
      ]
     },
     "execution_count": 30,
     "metadata": {},
     "output_type": "execute_result"
    }
   ],
   "source": [
    "rep = 100\n",
    "s = np.array([np.nan] * rep)\n",
    "for i in range(0, rep):\n",
    "    s[i] = (\n",
    "        np.random.choice(pred_did_buy, nr) > np.random.choice(pred_did_not_buy, nr)\n",
    "    ).mean()\n",
    "\n",
    "s.mean()"
   ]
  },
  {
   "cell_type": "markdown",
   "id": "welsh-elephant",
   "metadata": {},
   "source": [
    "To calculate many measures of model performance in one step, use the `evalbin` function from the `pyrsm` packages"
   ]
  },
  {
   "cell_type": "code",
   "execution_count": 22,
   "id": "deluxe-evening",
   "metadata": {},
   "outputs": [
    {
     "data": {
      "text/html": [
       "<div>\n",
       "<style scoped>\n",
       "    .dataframe tbody tr th:only-of-type {\n",
       "        vertical-align: middle;\n",
       "    }\n",
       "\n",
       "    .dataframe tbody tr th {\n",
       "        vertical-align: top;\n",
       "    }\n",
       "\n",
       "    .dataframe thead th {\n",
       "        text-align: right;\n",
       "    }\n",
       "</style>\n",
       "<table border=\"1\" class=\"dataframe\">\n",
       "  <thead>\n",
       "    <tr style=\"text-align: right;\">\n",
       "      <th></th>\n",
       "      <th>Type</th>\n",
       "      <th>predictor</th>\n",
       "      <th>TP</th>\n",
       "      <th>FP</th>\n",
       "      <th>TN</th>\n",
       "      <th>FN</th>\n",
       "      <th>total</th>\n",
       "      <th>TPR</th>\n",
       "      <th>TNR</th>\n",
       "      <th>precision</th>\n",
       "      <th>Fscore</th>\n",
       "      <th>accuracy</th>\n",
       "      <th>kappa</th>\n",
       "      <th>profit</th>\n",
       "      <th>index</th>\n",
       "      <th>ROME</th>\n",
       "      <th>contact</th>\n",
       "      <th>AUC</th>\n",
       "    </tr>\n",
       "  </thead>\n",
       "  <tbody>\n",
       "    <tr>\n",
       "      <th>0</th>\n",
       "      <td>All</td>\n",
       "      <td>pred_logit</td>\n",
       "      <td>3323</td>\n",
       "      <td>12237</td>\n",
       "      <td>33241</td>\n",
       "      <td>1199</td>\n",
       "      <td>50000</td>\n",
       "      <td>0.735</td>\n",
       "      <td>0.731</td>\n",
       "      <td>0.214</td>\n",
       "      <td>0.331</td>\n",
       "      <td>0.731</td>\n",
       "      <td>0.222</td>\n",
       "      <td>12158.0</td>\n",
       "      <td>1.0</td>\n",
       "      <td>1.563</td>\n",
       "      <td>0.311</td>\n",
       "      <td>0.812</td>\n",
       "    </tr>\n",
       "  </tbody>\n",
       "</table>\n",
       "</div>"
      ],
      "text/plain": [
       "  Type   predictor    TP     FP     TN    FN  total    TPR    TNR  precision  \\\n",
       "0  All  pred_logit  3323  12237  33241  1199  50000  0.735  0.731      0.214   \n",
       "\n",
       "   Fscore  accuracy  kappa   profit  index   ROME  contact    AUC  \n",
       "0   0.331     0.731  0.222  12158.0    1.0  1.563    0.311  0.812  "
      ]
     },
     "execution_count": 22,
     "metadata": {},
     "output_type": "execute_result"
    }
   ],
   "source": [
    "rsm.evalbin(bbb, \"buyer\", \"yes\", \"pred_logit\", cost=0.5, margin=6)"
   ]
  },
  {
   "cell_type": "markdown",
   "id": "possible-sport",
   "metadata": {},
   "source": [
    "There is also a convenience function to calculate auc in `pyrsm`"
   ]
  },
  {
   "cell_type": "code",
   "execution_count": 31,
   "id": "functional-dodge",
   "metadata": {},
   "outputs": [
    {
     "data": {
      "text/plain": [
       "0.811741575"
      ]
     },
     "execution_count": 31,
     "metadata": {},
     "output_type": "execute_result"
    }
   ],
   "source": [
    "rsm.auc(bbb.buyer_yes, bbb.pred_logit).round(10)"
   ]
  },
  {
   "cell_type": "code",
   "execution_count": 32,
   "id": "registered-stevens",
   "metadata": {},
   "outputs": [
    {
     "data": {
      "text/plain": [
       "0.811741575"
      ]
     },
     "execution_count": 32,
     "metadata": {},
     "output_type": "execute_result"
    }
   ],
   "source": [
    "fpr, tpr, thresholds = roc_curve(bbb.buyer_yes, bbb.pred_logit)\n",
    "auc(fpr, tpr).round(10)"
   ]
  },
  {
   "cell_type": "code",
   "execution_count": null,
   "id": "assisted-peace",
   "metadata": {},
   "outputs": [],
   "source": []
  }
 ],
 "metadata": {
  "jupytext": {
   "cell_metadata_filter": "-all",
   "main_language": "python",
   "notebook_metadata_filter": "-all"
  },
  "kernelspec": {
   "display_name": "Python 3 (ipykernel)",
   "language": "python",
   "name": "python3"
  },
  "language_info": {
   "codemirror_mode": {
    "name": "ipython",
    "version": 3
   },
   "file_extension": ".py",
   "mimetype": "text/x-python",
   "name": "python",
   "nbconvert_exporter": "python",
   "pygments_lexer": "ipython3",
   "version": "3.9.10"
  }
 },
 "nbformat": 4,
 "nbformat_minor": 5
}
