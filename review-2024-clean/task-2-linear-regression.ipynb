{
 "cells": [
  {
   "cell_type": "code",
   "execution_count": 1,
   "id": "monthly-nature",
   "metadata": {},
   "outputs": [],
   "source": [
    "import matplotlib as mpl\n",
    "import pandas as pd\n",
    "import pyrsm as rsm\n",
    "import statsmodels.formula.api as smf\n",
    "import seaborn as sns\n",
    "\n",
    "# increase plot resolution\n",
    "# mpl.rcParams[\"figure.dpi\"] = 150"
   ]
  },
  {
   "cell_type": "code",
   "execution_count": 2,
   "id": "addressed-casting",
   "metadata": {},
   "outputs": [],
   "source": [
    "# load data\n",
    "diamonds = pd.read_pickle(\"data/diamonds.pkl\")\n",
    "click = pd.read_pickle(\"data/click.pkl\")"
   ]
  },
  {
   "cell_type": "code",
   "execution_count": 3,
   "id": "higher-performer",
   "metadata": {
    "lines_to_next_cell": 0
   },
   "outputs": [
    {
     "data": {
      "text/markdown": [
       "## Diamond prices\n",
       "\n",
       "Prices of 3,000 round cut diamonds\n",
       "\n",
       "### Description\n",
       "\n",
       "A dataset containing the prices and other attributes of a sample of 3000 diamonds. The variables are as follows:\n",
       "\n",
       "### Variables\n",
       "\n",
       "- price = price in US dollars ($338--$18,791)\n",
       "- carat = weight of the diamond (0.2--3.00)\n",
       "- clarity = a measurement of how clear the diamond is (I1 (worst), SI2, SI1, VS2, VS1, VVS2, VVS1, IF (best))\n",
       "- cut = quality of the cut (Fair, Good, Very Good, Premium, Ideal)\n",
       "- color = diamond color, from J (worst) to D (best)\n",
       "- depth = total depth percentage = z / mean(x, y) = 2 * z / (x + y) (54.2--70.80)\n",
       "- table = width of top of diamond relative to widest point (50--69)\n",
       "- x = length in mm (3.73--9.42)\n",
       "- y = width in mm (3.71--9.29)\n",
       "- z = depth in mm (2.33--5.58)\n",
       "- date = shipment date\n",
       "\n",
       "### Additional information\n",
       "\n",
       "<a href=\"http://www.diamondse.info/diamonds-clarity.asp\" target=\"_blank\">Diamond search engine</a>\n"
      ],
      "text/plain": [
       "<IPython.core.display.Markdown object>"
      ]
     },
     "metadata": {},
     "output_type": "display_data"
    }
   ],
   "source": [
    "# review the data\n",
    "rsm.describe(diamonds)"
   ]
  },
  {
   "cell_type": "code",
   "execution_count": 4,
   "id": "pressing-distance",
   "metadata": {},
   "outputs": [
    {
     "data": {
      "text/markdown": [
       "## Click ballpoint pens\n",
       "\n",
       "### Description\n",
       "\n",
       "The data represent annual sales for 40 territories for Click, a national manufacturer of ballpoint pens. The company uses regional wholesalers to distribute their products. In addition they use company sales representatives and TV advertising.  \n",
       "\n",
       "### Variables\n",
       "\n",
       "A data frame with 40 observations on 4 variables\n",
       "\n",
       "- sales =\tSales of Click products in a territory in $1000\n",
       "- advertising = Number of spots purchased in a territory\n",
       "- salesreps = Total number of sales representatives assigned to a territory\n",
       "- wholesaler_eff = A measure of wholesaler efficiency based on a survey. A factor with four levels: Poor, Fair, Good, and Excellent\n",
       "\n",
       "### Source\n",
       "\n",
       "Marketing Research: Methodological Foundations by Iacobucci and Churchill, Cengage Learning"
      ],
      "text/plain": [
       "<IPython.core.display.Markdown object>"
      ]
     },
     "metadata": {},
     "output_type": "display_data"
    }
   ],
   "source": [
    "rsm.describe(click)"
   ]
  },
  {
   "cell_type": "markdown",
   "id": "average-chambers",
   "metadata": {
    "lines_to_next_cell": 0
   },
   "source": [
    "Run a linear regression on `diamonds` data with `clarity` as the only explanatory variable"
   ]
  },
  {
   "cell_type": "code",
   "execution_count": null,
   "id": "personalized-determination",
   "metadata": {},
   "outputs": [],
   "source": [
    "smf.ols(...).fit().summary()"
   ]
  },
  {
   "cell_type": "markdown",
   "id": "initial-bathroom",
   "metadata": {
    "lines_to_next_cell": 0
   },
   "source": [
    "Run a linear regression on `diamonds` data with `clarity` and `carat` as the only explanatory variable. Does the effect of `clarity` change? If so, why?"
   ]
  },
  {
   "cell_type": "markdown",
   "id": "e9f7a832",
   "metadata": {},
   "source": [
    "Calculate model fit measures, variable, importance, and prediction plots"
   ]
  },
  {
   "cell_type": "code",
   "execution_count": null,
   "id": "e7835e97",
   "metadata": {},
   "outputs": [],
   "source": []
  },
  {
   "cell_type": "markdown",
   "id": "healthy-marble",
   "metadata": {},
   "source": [
    "Check the correlations between carat and clarity"
   ]
  },
  {
   "cell_type": "code",
   "execution_count": null,
   "id": "south-treasure",
   "metadata": {},
   "outputs": [],
   "source": [
    "pd.get_dummies(diamonds[[\"carat\", \"clarity\"]]).corr().round(3)"
   ]
  },
  {
   "cell_type": "markdown",
   "id": "confident-poland",
   "metadata": {
    "lines_to_next_cell": 0
   },
   "source": [
    "Run a linear regression on `click` data with `sales` as the response variable and `advertising` as the only explanatory variable. Provide a full interpretation of the regression coefficient"
   ]
  },
  {
   "cell_type": "code",
   "execution_count": null,
   "id": "infinite-diary",
   "metadata": {
    "lines_to_next_cell": 0
   },
   "outputs": [],
   "source": [
    "smf.ols(...).fit().summary()"
   ]
  },
  {
   "cell_type": "markdown",
   "id": "professional-pittsburgh",
   "metadata": {
    "lines_to_next_cell": 0
   },
   "source": [
    "Run a linear regression on `click` data with `sales` as the response variable and `salesreps` as the only explanatory variable. Provide a full interpretation of the regression coefficient"
   ]
  },
  {
   "cell_type": "code",
   "execution_count": null,
   "id": "color-mentor",
   "metadata": {},
   "outputs": [],
   "source": []
  },
  {
   "cell_type": "markdown",
   "id": "theoretical-visibility",
   "metadata": {
    "lines_to_next_cell": 0
   },
   "source": [
    "Run a linear regression on `click` data with `sales` as the response variable and `advertising` and `salesreps` as the explanatory variable. Provide a full interpretation of the regression coefficient. Are the coefficients different compared to the previous models? If so, why do you think that is?"
   ]
  },
  {
   "cell_type": "code",
   "execution_count": null,
   "id": "interracial-raising",
   "metadata": {},
   "outputs": [],
   "source": []
  },
  {
   "cell_type": "markdown",
   "id": "98ab0fe3",
   "metadata": {},
   "source": [
    "Calculate model fit measures, variable, importance, and prediction plots"
   ]
  },
  {
   "cell_type": "code",
   "execution_count": null,
   "id": "7cd871b1",
   "metadata": {},
   "outputs": [],
   "source": []
  },
  {
   "cell_type": "markdown",
   "id": "agreed-conviction",
   "metadata": {},
   "source": [
    "Check the correlation between `sales`, `advertising`, and `salesreps`"
   ]
  },
  {
   "cell_type": "code",
   "execution_count": null,
   "id": "documentary-cologne",
   "metadata": {},
   "outputs": [],
   "source": [
    "click.corr().round(3)"
   ]
  },
  {
   "cell_type": "code",
   "execution_count": null,
   "id": "postal-composite",
   "metadata": {},
   "outputs": [],
   "source": [
    "rsm.correlation(click).summary()"
   ]
  }
 ],
 "metadata": {
  "jupytext": {
   "cell_metadata_filter": "-all",
   "main_language": "python",
   "notebook_metadata_filter": "-all"
  },
  "kernelspec": {
   "display_name": "Python 3 (ipykernel)",
   "language": "python",
   "name": "python3"
  },
  "language_info": {
   "codemirror_mode": {
    "name": "ipython",
    "version": 3
   },
   "file_extension": ".py",
   "mimetype": "text/x-python",
   "name": "python",
   "nbconvert_exporter": "python",
   "pygments_lexer": "ipython3",
   "version": "3.10.8"
  }
 },
 "nbformat": 4,
 "nbformat_minor": 5
}
