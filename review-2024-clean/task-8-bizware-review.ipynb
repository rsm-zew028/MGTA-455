{
 "cells": [
  {
   "cell_type": "markdown",
   "metadata": {},
   "source": [
    "## Experimental design and partial factorials\n",
    "\n",
    "### Generate a partial factorial design using information from the response table shown.\n",
    "\n",
    "The smallest appropriate partial factorial has 8 trials (i.e., the solution with 8 trials has a perfect D-efficiency score equal to 1, no correlation between the variables (i.e., a determinant of 1), and is balanced (i.e., `trial` and `gift` both occur in 4 trials, `speed` and `power` both occur in 4 trials, and `USD150`, `USD160`, `USD170`, and `USD180` each occur in 2 trials).   "
   ]
  },
  {
   "cell_type": "code",
   "execution_count": 2,
   "metadata": {},
   "outputs": [],
   "source": [
    "%reload_ext rpy2.ipython"
   ]
  },
  {
   "cell_type": "code",
   "execution_count": 3,
   "metadata": {},
   "outputs": [
    {
     "name": "stdout",
     "output_type": "stream",
     "text": [
      "Experimental design\n",
      "# trials for partial factorial: 8 \n",
      "# trials for full factorial   : 16 \n",
      "Random seed                   : 1234 \n",
      "\n",
      "Attributes and levels:\n",
      "price: USD150, USD160, USD170, USD180 \n",
      "message: speed, power \n",
      "promotion: trial, gift \n",
      "\n",
      "Design efficiency:\n",
      " Trials D-efficiency Balanced\n",
      "      6        0.135    FALSE\n",
      "      7        0.082    FALSE\n",
      "      8        1.000     TRUE\n",
      "\n",
      "Partial factorial design correlations:\n",
      "** Note: Variables are assumed to be ordinal **\n",
      "          price message promotion\n",
      "price         1       0         0\n",
      "message       0       1         0\n",
      "promotion     0       0         1\n",
      "\n",
      "Estimable effects from partial factorial design:\n",
      "\n",
      "  price|USD160\n",
      "  price|USD170\n",
      "  price|USD180\n",
      "  message|power\n",
      "  promotion|gift\n",
      "  price|USD160:message|power\n",
      "  price|USD170:message|power \n"
     ]
    }
   ],
   "source": [
    "%%R\n",
    "result <- radiant.design::doe(\n",
    "  factors = c(\n",
    "    \"price; USD150; USD160; USD170; USD180\", \n",
    "    \"message; speed; power\", \n",
    "    \"promotion; trial; gift\"\n",
    "  ),\n",
    "  seed = 1234\n",
    ")\n",
    "summary(result, eff = TRUE, part = FALSE, full = FALSE)"
   ]
  },
  {
   "cell_type": "markdown",
   "metadata": {},
   "source": [
    "We can re-estimate the design, specifically for only 8 trials/profiles."
   ]
  },
  {
   "cell_type": "code",
   "execution_count": 4,
   "metadata": {},
   "outputs": [
    {
     "name": "stdout",
     "output_type": "stream",
     "text": [
      "Experimental design\n",
      "# trials for partial factorial: 8 \n",
      "# trials for full factorial   : 16 \n",
      "Random seed                   : 1234 \n",
      "\n",
      "Attributes and levels:\n",
      "price: USD150, USD160, USD170, USD180 \n",
      "message: speed, power \n",
      "promotion: trial, gift \n",
      "\n",
      "Design efficiency:\n",
      " Trials D-efficiency Balanced\n",
      "      8        1.000     TRUE\n",
      "\n",
      "Partial factorial design correlations:\n",
      "** Note: Variables are assumed to be ordinal **\n",
      "          price message promotion\n",
      "price         1       0         0\n",
      "message       0       1         0\n",
      "promotion     0       0         1\n",
      "\n",
      "Partial factorial design:\n",
      " trial  price message promotion\n",
      "     1 USD150   speed     trial\n",
      "     4 USD150   power      gift\n",
      "     5 USD160   speed     trial\n",
      "     8 USD160   power      gift\n",
      "    10 USD170   speed      gift\n",
      "    11 USD170   power     trial\n",
      "    14 USD180   speed      gift\n",
      "    15 USD180   power     trial\n",
      "\n",
      "Estimable effects from partial factorial design:\n",
      "\n",
      "  price|USD160\n",
      "  price|USD170\n",
      "  price|USD180\n",
      "  message|power\n",
      "  promotion|gift\n",
      "  price|USD160:message|power\n",
      "  price|USD170:message|power \n",
      "\n",
      "Full factorial design:\n",
      " trial  price message promotion\n",
      "     1 USD150   speed     trial\n",
      "     2 USD150   speed      gift\n",
      "     3 USD150   power     trial\n",
      "     4 USD150   power      gift\n",
      "     5 USD160   speed     trial\n",
      "     6 USD160   speed      gift\n",
      "     7 USD160   power     trial\n",
      "     8 USD160   power      gift\n",
      "     9 USD170   speed     trial\n",
      "    10 USD170   speed      gift\n",
      "    11 USD170   power     trial\n",
      "    12 USD170   power      gift\n",
      "    13 USD180   speed     trial\n",
      "    14 USD180   speed      gift\n",
      "    15 USD180   power     trial\n",
      "    16 USD180   power      gift\n"
     ]
    }
   ],
   "source": [
    "%%R\n",
    "result <- radiant.design::doe(\n",
    "      factors = c(\n",
    "    \"price; USD150; USD160; USD170; USD180\", \n",
    "    \"message; speed; power\", \n",
    "    \"promotion; trial; gift\"\n",
    "  ), \n",
    "  trials = 8, \n",
    "  seed = 1234\n",
    ")\n",
    "summary(result, eff = TRUE, part = TRUE, full = TRUE)\n",
    "readr::write_csv(result$part, path = \"bizware-partial-factorial.csv\")"
   ]
  },
  {
   "cell_type": "markdown",
   "metadata": {},
   "source": [
    "Recall that multiple partial factorials may exist that \"solve\" the experimental design problem.\n",
    "\n",
    "## Estimate a logistic regression based on the response table shown and predict response for all profiles\n",
    "\n",
    "Open the `bizware.xls` file. After loading the data into Jupyter we first need to create a _positive_ and _negative response_ variables. Then we can `melt` the data and estimate the logistic regression using (frequency) weights. As stated in the Excel file, assume the sample size for each cell was 2,000\n",
    "\n",
    "\n",
    "Load information from **data/bizware.xls**:"
   ]
  },
  {
   "cell_type": "code",
   "execution_count": null,
   "metadata": {},
   "outputs": [],
   "source": [
    "import pandas as pd\n",
    "import statsmodels.formula.api as smf\n",
    "from statsmodels.genmod.families import Binomial\n",
    "from statsmodels.genmod.families.links import logit\n",
    "import pyrsm as rsm\n",
    "\n",
    "bizware = pd.read_excel(\"data/bizware.xls\", nrows=8)\n",
    "bizware.dtypes"
   ]
  },
  {
   "cell_type": "markdown",
   "metadata": {},
   "source": [
    "Create a dataset from the bixware data that can be used for estimation"
   ]
  },
  {
   "cell_type": "code",
   "execution_count": null,
   "metadata": {},
   "outputs": [],
   "source": [
    "bizware_melt = "
   ]
  },
  {
   "cell_type": "markdown",
   "metadata": {},
   "source": [
    "The results from the logistic regression models are given below."
   ]
  },
  {
   "cell_type": "code",
   "execution_count": null,
   "metadata": {},
   "outputs": [],
   "source": [
    "form = \"resp_yes ~ \" + \" + \".join(evar)\n",
    "lr = smf.glm(\n",
    "    formula=form,\n",
    "    family=Binomial(link=logit()),\n",
    "    freq_weights=bizware_melt.freq,\n",
    "    data=bizware_melt,\n",
    ").fit()\n",
    "rsm.or_ci(lr)"
   ]
  },
  {
   "cell_type": "markdown",
   "metadata": {},
   "source": [
    "The prediction below only produces the 'partial' results. Check if you can see the difference between these predictions and those from the predictions further below."
   ]
  },
  {
   "cell_type": "code",
   "execution_count": null,
   "metadata": {},
   "outputs": [],
   "source": [
    "bizware_melt[\"prediction_partial\"] = lr.predict(bizware_melt)\n",
    "bizware_melt"
   ]
  },
  {
   "cell_type": "markdown",
   "metadata": {},
   "source": [
    "The easiest way to generate predictions for all possible profiles (trials) if to use the `levels_list` and `expand_grid` functions in pyrsm. Use the logistic regression object created above and use the newly created dataset to generate the desired predictions"
   ]
  },
  {
   "cell_type": "code",
   "execution_count": null,
   "metadata": {},
   "outputs": [],
   "source": []
  },
  {
   "cell_type": "markdown",
   "metadata": {},
   "source": [
    "See also the following tutorial video https://youtu.be/lk3ufN2igOo"
   ]
  },
  {
   "cell_type": "code",
   "execution_count": null,
   "metadata": {},
   "outputs": [],
   "source": []
  }
 ],
 "metadata": {
  "kernelspec": {
   "display_name": "Python 3 (ipykernel)",
   "language": "python",
   "name": "python3"
  },
  "language_info": {
   "codemirror_mode": {
    "name": "ipython",
    "version": 3
   },
   "file_extension": ".py",
   "mimetype": "text/x-python",
   "name": "python",
   "nbconvert_exporter": "python",
   "pygments_lexer": "ipython3",
   "version": "3.9.10"
  }
 },
 "nbformat": 4,
 "nbformat_minor": 4
}
